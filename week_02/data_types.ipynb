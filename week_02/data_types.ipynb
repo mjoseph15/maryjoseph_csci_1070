{
 "cells": [
  {
   "cell_type": "markdown",
   "id": "9e6781fe-47f3-43a4-ba9a-406b1dd3a31b",
   "metadata": {},
   "source": [
    "# Data Types \n",
    "\n",
    "anytime you want to open a notebook, you first open gitbash (Windows)/ terminal (Mac) and you run \"jupyter notebook\""
   ]
  },
  {
   "cell_type": "code",
   "execution_count": 2,
   "id": "ec1ccc1c-909f-4f73-8cbf-6cbc390de171",
   "metadata": {},
   "outputs": [],
   "source": [
    "#to run cells, you can press shift-enter on windows or command-enter or shift-enter on mac\n",
    "# to get hints on a function, put your cursor in the function and press shift-tab\n",
    "\n",
    "x = 5 # integer\n",
    "y = 5.0 #float/floating point\n",
    "\n"
   ]
  },
  {
   "cell_type": "code",
   "execution_count": 3,
   "id": "2dfa69ab-513b-49f3-8038-963f5ae176f0",
   "metadata": {},
   "outputs": [
    {
     "name": "stdout",
     "output_type": "stream",
     "text": [
      "5\n"
     ]
    }
   ],
   "source": [
    "print(x)"
   ]
  },
  {
   "cell_type": "code",
   "execution_count": 5,
   "id": "2350c988-8734-4173-95fd-f8ad84cbcf16",
   "metadata": {},
   "outputs": [
    {
     "name": "stdout",
     "output_type": "stream",
     "text": [
      "<class 'int'>\n"
     ]
    }
   ],
   "source": [
    "print(type(x))"
   ]
  },
  {
   "cell_type": "code",
   "execution_count": 8,
   "id": "82471371-5644-486c-998d-c21004e85486",
   "metadata": {},
   "outputs": [
    {
     "data": {
      "text/plain": [
       "float"
      ]
     },
     "execution_count": 8,
     "metadata": {},
     "output_type": "execute_result"
    }
   ],
   "source": [
    "type(y)"
   ]
  },
  {
   "cell_type": "code",
   "execution_count": 10,
   "id": "229e35d0-95dd-476b-96e5-5dead3063f47",
   "metadata": {},
   "outputs": [],
   "source": [
    "# Dictionaries are key:value pairs\n",
    "breakfast = {\"waffles\":40,\n",
    "             \"eggs\":60,\n",
    "             \"cereal\":1}"
   ]
  },
  {
   "cell_type": "code",
   "execution_count": 11,
   "id": "b93b152f-f71c-4592-b038-7f439e6b00b5",
   "metadata": {},
   "outputs": [
    {
     "name": "stdout",
     "output_type": "stream",
     "text": [
      "60\n"
     ]
    }
   ],
   "source": [
    "print(breakfast[\"eggs\"])"
   ]
  },
  {
   "cell_type": "code",
   "execution_count": 12,
   "id": "35b9b082-d9ef-4e90-925a-472cd8cafe4c",
   "metadata": {},
   "outputs": [
    {
     "data": {
      "text/plain": [
       "bool"
      ]
     },
     "execution_count": 12,
     "metadata": {},
     "output_type": "execute_result"
    }
   ],
   "source": [
    "# Booleans are true or false values\n",
    "is_true = False\n",
    "type(is_true)"
   ]
  },
  {
   "cell_type": "code",
   "execution_count": 15,
   "id": "5286fcdd-ebe2-4dbe-93ad-3a140e5d3210",
   "metadata": {},
   "outputs": [
    {
     "name": "stdout",
     "output_type": "stream",
     "text": [
      "{'coffee', 'eggs', 'bacon'}\n"
     ]
    }
   ],
   "source": [
    "# Sets have unordered values and unchangeable values (immutable)\n",
    "breakfast_set = {\"eggs\",\"bacon\"}\n",
    "# Sets cannot have duplicates. So, you cannot add something thats already there.\n",
    "breakfast_set.add(\"coffee\")\n",
    "print(breakfast_set)"
   ]
  },
  {
   "cell_type": "code",
   "execution_count": 18,
   "id": "8acc52d7-7a92-427c-b202-2a1459355b4b",
   "metadata": {},
   "outputs": [
    {
     "data": {
      "text/plain": [
       "'March'"
      ]
     },
     "execution_count": 18,
     "metadata": {},
     "output_type": "execute_result"
    }
   ],
   "source": [
    "# List values can be changed and they are ordered\n",
    "months = [\"January\", \"February\", \"March\"]\n",
    "months[2]"
   ]
  },
  {
   "cell_type": "code",
   "execution_count": 19,
   "id": "3365e6db-5c6f-4c1d-bc92-71b3c65f7f87",
   "metadata": {},
   "outputs": [
    {
     "data": {
      "text/plain": [
       "'coffee'"
      ]
     },
     "execution_count": 19,
     "metadata": {},
     "output_type": "execute_result"
    }
   ],
   "source": [
    "# Tuples are ordered but unchangeable (immutable)\n",
    "breakfast_tuple = (\"coffee\",\"bagels\",\"cereal\")\n",
    "breakfast_tuple[0]"
   ]
  },
  {
   "cell_type": "code",
   "execution_count": 21,
   "id": "ecf92683-0a64-4561-b1be-6cb4698aae75",
   "metadata": {},
   "outputs": [
    {
     "name": "stdout",
     "output_type": "stream",
     "text": [
      "3\n"
     ]
    }
   ],
   "source": [
    "print(len(breakfast_tuple)) # length is 3 because there are 3 items, but we start counting at 0"
   ]
  },
  {
   "cell_type": "code",
   "execution_count": 24,
   "id": "04db95a9-6110-4f10-b683-76f56000a027",
   "metadata": {},
   "outputs": [
    {
     "name": "stdout",
     "output_type": "stream",
     "text": [
      "('a', 'b')\n"
     ]
    }
   ],
   "source": [
    "# slicing slice(start, end, step)\n",
    "letters_tuple = (\"a\",\"b\",\"c\",\"d\",\"e\")\n",
    "x = slice(0,2) #slice(2) is the same\n",
    "print(letters_tuple[x])"
   ]
  },
  {
   "cell_type": "code",
   "execution_count": 25,
   "id": "52dd247a-6973-4270-a586-d4dce815e176",
   "metadata": {},
   "outputs": [
    {
     "data": {
      "text/plain": [
       "('a', 'b')"
      ]
     },
     "execution_count": 25,
     "metadata": {},
     "output_type": "execute_result"
    }
   ],
   "source": [
    "letters_tuple[0:2]"
   ]
  },
  {
   "cell_type": "code",
   "execution_count": 29,
   "id": "639998aa-90ec-4250-bae7-da8ad0dc437e",
   "metadata": {},
   "outputs": [
    {
     "name": "stdout",
     "output_type": "stream",
     "text": [
      "('a', 'c', 'e')\n"
     ]
    }
   ],
   "source": [
    "# use slice to return a, c, and e\n",
    "# the end value is \"exclusive\" which means 0-5 does not include the 5 itself. \n",
    "# slice (inclusive start, exclusive end, step)\n",
    "y = slice(0,5,2)\n",
    "print(letters_tuple[y])"
   ]
  },
  {
   "cell_type": "code",
   "execution_count": null,
   "id": "59bdff59-8dc9-4d02-b795-de750b0ecfc3",
   "metadata": {},
   "outputs": [],
   "source": []
  }
 ],
 "metadata": {
  "kernelspec": {
   "display_name": "Python 3 (ipykernel)",
   "language": "python",
   "name": "python3"
  },
  "language_info": {
   "codemirror_mode": {
    "name": "ipython",
    "version": 3
   },
   "file_extension": ".py",
   "mimetype": "text/x-python",
   "name": "python",
   "nbconvert_exporter": "python",
   "pygments_lexer": "ipython3",
   "version": "3.11.5"
  }
 },
 "nbformat": 4,
 "nbformat_minor": 5
}
