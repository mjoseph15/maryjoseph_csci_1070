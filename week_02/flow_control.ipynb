{
 "cells": [
  {
   "cell_type": "markdown",
   "id": "44acf3e0-953e-485f-b182-748e9c112b24",
   "metadata": {},
   "source": [
    "# Loops and Functions"
   ]
  },
  {
   "cell_type": "code",
   "execution_count": 8,
   "id": "14dc4630-bb70-4d6f-ae10-72e8e39b0ad0",
   "metadata": {},
   "outputs": [
    {
     "name": "stdout",
     "output_type": "stream",
     "text": [
      "b is greater\n"
     ]
    }
   ],
   "source": [
    "# loops are flow control. They change how data moves through the application.\n",
    "# if ... elif ... else \n",
    "# if a equals b, return \"they are equal\". If a > b return \"a is greater\"\n",
    "# and if b > a return \"b is greater\".\n",
    "a = 4\n",
    "b = 7\n",
    "\n",
    "if a == b:\n",
    "    print(\"they are equal\")\n",
    "elif a>b:\n",
    "    print(\"a is greater\")\n",
    "elif b>a:\n",
    "    print(\"b is greater\")"
   ]
  },
  {
   "cell_type": "code",
   "execution_count": 11,
   "id": "b97d483a-2c17-44b8-bd52-0c4cc15c4fea",
   "metadata": {},
   "outputs": [
    {
     "name": "stdout",
     "output_type": "stream",
     "text": [
      "7\n",
      "6\n"
     ]
    }
   ],
   "source": [
    "# while loops\n",
    "# repeatedly test an expression and continue to run whatever is in the loop\n",
    "# until a stopping condition is met\n",
    "x = 7 \n",
    "while x > 5: \n",
    "    print(x)\n",
    "    #decrement our x so it can stop\n",
    "    # x = x - 1\n",
    "    x-=1"
   ]
  },
  {
   "cell_type": "code",
   "execution_count": 12,
   "id": "103872df-760b-402b-9496-890a2e4b8c81",
   "metadata": {},
   "outputs": [
    {
     "name": "stdout",
     "output_type": "stream",
     "text": [
      "3\n",
      "4\n",
      "5\n",
      "6\n",
      "7\n",
      "8\n",
      "9\n"
     ]
    }
   ],
   "source": [
    "#create a scenario where x starts at 3 and is incremented by 1\n",
    "# you print the value of x while x is less than 10\n",
    "x = 3\n",
    "while x < 10:\n",
    "    print(x)\n",
    "    x+=1"
   ]
  },
  {
   "cell_type": "code",
   "execution_count": 15,
   "id": "6b336b0e-f947-4142-a99f-182ac65e6176",
   "metadata": {},
   "outputs": [
    {
     "name": "stdout",
     "output_type": "stream",
     "text": [
      "Dexter\n",
      "Pharoah\n",
      "Oreo\n",
      "Mitas\n",
      "Enzo\n",
      "Warmonger\n"
     ]
    }
   ],
   "source": [
    "# for loops\n",
    "cats = [\"Dexter\",\"Pharoah\",\"Oreo\",\"Mitas\",\"Enzo\",\"Warmonger\"]\n",
    "for cat in cats: \n",
    "    print(cat)"
   ]
  },
  {
   "cell_type": "code",
   "execution_count": 16,
   "id": "19f8044a-51b9-49a9-837e-0be5458a3f74",
   "metadata": {},
   "outputs": [
    {
     "name": "stdout",
     "output_type": "stream",
     "text": [
      "2\n",
      "4\n",
      "6\n",
      "8\n"
     ]
    }
   ],
   "source": [
    "# range(start,stop[,step])\n",
    "for r in range(2,10,2):\n",
    "    print(r)"
   ]
  },
  {
   "cell_type": "code",
   "execution_count": 17,
   "id": "a31a861a-3c78-4480-aebc-40edca094399",
   "metadata": {},
   "outputs": [],
   "source": [
    "# functions \n",
    "# functions let us encapsulate chunks of code that we might want to use again\n",
    "def comparing(a,b):\n",
    "    if a == b:\n",
    "        print(\"they are equal\")\n",
    "    elif a>b:\n",
    "        print(\"a is greater\")\n",
    "    elif b>a:\n",
    "        print(\"b is greater\")\n",
    "\n"
   ]
  },
  {
   "cell_type": "code",
   "execution_count": 18,
   "id": "cf032fc4-fe30-49f7-8e16-8648f9096024",
   "metadata": {},
   "outputs": [
    {
     "name": "stdout",
     "output_type": "stream",
     "text": [
      "b is greater\n"
     ]
    }
   ],
   "source": [
    "comparing(2,5)"
   ]
  },
  {
   "cell_type": "code",
   "execution_count": 20,
   "id": "d53de204-b512-454c-8067-a30aba9de92f",
   "metadata": {},
   "outputs": [
    {
     "name": "stdout",
     "output_type": "stream",
     "text": [
      "a is greater\n"
     ]
    }
   ],
   "source": [
    "comparing(46,10)"
   ]
  },
  {
   "cell_type": "code",
   "execution_count": null,
   "id": "42925b07-9c45-44e3-8627-0c253bde3a56",
   "metadata": {},
   "outputs": [],
   "source": []
  }
 ],
 "metadata": {
  "kernelspec": {
   "display_name": "Python 3 (ipykernel)",
   "language": "python",
   "name": "python3"
  },
  "language_info": {
   "codemirror_mode": {
    "name": "ipython",
    "version": 3
   },
   "file_extension": ".py",
   "mimetype": "text/x-python",
   "name": "python",
   "nbconvert_exporter": "python",
   "pygments_lexer": "ipython3",
   "version": "3.11.5"
  }
 },
 "nbformat": 4,
 "nbformat_minor": 5
}
